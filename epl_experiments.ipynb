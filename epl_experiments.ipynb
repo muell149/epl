{
 "cells": [
  {
   "cell_type": "code",
   "execution_count": 1,
   "metadata": {
    "scrolled": false
   },
   "outputs": [
    {
     "data": {
      "text/html": [
       "<style>.container { width:100% !important; }</style>"
      ],
      "text/plain": [
       "<IPython.core.display.HTML object>"
      ]
     },
     "metadata": {},
     "output_type": "display_data"
    }
   ],
   "source": [
    "from IPython.core.display import display, HTML\n",
    "display(HTML(\"<style>.container { width:100% !important; }</style>\"))"
   ]
  },
  {
   "cell_type": "code",
   "execution_count": 2,
   "metadata": {
    "scrolled": false
   },
   "outputs": [],
   "source": [
    "import pandas as pd\n",
    "import sys\n",
    "import matplotlib.pyplot as plt\n",
    "import numpy as np\n",
    "import seaborn as sns\n",
    "from scipy.stats import poisson,skellam\n",
    "import itertools\n",
    "import warnings\n",
    "#import sqlalchemy\n",
    "import numpy as np\n",
    "import math\n",
    "#import pyarrow.parquet as pq\n",
    "#import s3fs\n",
    "warnings.filterwarnings('ignore')"
   ]
  },
  {
   "cell_type": "markdown",
   "metadata": {},
   "source": [
    "## import ep data"
   ]
  },
  {
   "cell_type": "code",
   "execution_count": 3,
   "metadata": {
    "scrolled": false
   },
   "outputs": [
    {
     "name": "stdout",
     "output_type": "stream",
     "text": [
      "<class 'pandas.core.frame.DataFrame'>\n",
      "RangeIndex: 380 entries, 0 to 379\n",
      "Data columns (total 4 columns):\n",
      " #   Column     Non-Null Count  Dtype \n",
      "---  ------     --------------  ----- \n",
      " 0   HomeTeam   380 non-null    object\n",
      " 1   AwayTeam   380 non-null    object\n",
      " 2   HomeGoals  380 non-null    int64 \n",
      " 3   AwayGoals  380 non-null    int64 \n",
      "dtypes: int64(2), object(2)\n",
      "memory usage: 12.0+ KB\n"
     ]
    }
   ],
   "source": [
    "epl_1617 = pd.read_csv(\"http://www.football-data.co.uk/mmz4281/1617/E0.csv\")\n",
    "epl_1617.to_csv('data/epl_1617.csv')\n",
    "epl_1617 = pd.read_csv('data/epl_1617.csv')\n",
    "epl_1617 = epl_1617[['HomeTeam','AwayTeam','FTHG','FTAG']]\n",
    "epl_1617 = epl_1617.rename(columns={'FTHG': 'HomeGoals', 'FTAG': 'AwayGoals'})\n",
    "epl_1617.info()"
   ]
  },
  {
   "cell_type": "code",
   "execution_count": 28,
   "metadata": {
    "scrolled": false
   },
   "outputs": [
    {
     "data": {
      "image/png": "[encoded data removed]",
      "text/plain": [
       "<Figure size 432x288 with 1 Axes>"
      ]
     },
     "metadata": {
      "needs_background": "light"
     },
     "output_type": "display_data"
    }
   ],
   "source": [
    "ax = sns.distplot(epl_1617['HomeGoals'])"
   ]
  },
  {
   "cell_type": "markdown",
   "metadata": {},
   "source": [
    "#### stuff to bet on:\n",
    "\n",
    "-corners (over/under)\n",
    "-"
   ]
  },
  {
   "cell_type": "markdown",
   "metadata": {},
   "source": [
    "## import Jonathan data"
   ]
  },
  {
   "cell_type": "code",
   "execution_count": 4,
   "metadata": {
    "scrolled": false
   },
   "outputs": [],
   "source": [
    "jd = pd.read_csv('data/EPL_8_28_19.csv')\n",
    "pd.set_option('display.max_columns', 500)"
   ]
  },
  {
   "cell_type": "code",
   "execution_count": 7,
   "metadata": {
    "scrolled": true
   },
   "outputs": [
    {
     "name": "stdout",
     "output_type": "stream",
     "text": [
      "id\n",
      "homeID\n",
      "awayID\n",
      "season\n",
      "status\n",
      "roundID\n",
      "game_week\n",
      "revised_game_week\n",
      "homeGoalCount\n",
      "awayGoalCount\n",
      "totalGoalCount\n",
      "team_a_corners\n",
      "team_b_corners\n",
      "totalCornerCount\n",
      "team_a_offsides\n",
      "team_b_offsides\n",
      "team_a_yellow_cards\n",
      "team_b_yellow_cards\n",
      "team_a_red_cards\n",
      "team_b_red_cards\n",
      "team_a_shotsOnTarget\n",
      "team_b_shotsOnTarget\n",
      "team_a_shotsOffTarget\n",
      "team_b_shotsOffTarget\n",
      "team_a_shots\n",
      "team_b_shots\n",
      "team_a_fouls\n",
      "team_b_fouls\n",
      "team_a_possession\n",
      "team_b_possession\n",
      "refereeID\n",
      "coach_a_ID\n",
      "coach_b_ID\n",
      "stadium_name\n",
      "stadium_location\n",
      "team_a_cards_num\n",
      "team_b_cards_num\n",
      "odds_ft_1\n",
      "odds_ft_x\n",
      "odds_ft_2\n",
      "odds_ft_over05\n",
      "odds_ft_over15\n",
      "odds_ft_over25\n",
      "odds_ft_over35\n",
      "odds_ft_over45\n",
      "odds_ft_under05\n",
      "odds_ft_under15\n",
      "odds_ft_under25\n",
      "odds_ft_under35\n",
      "odds_ft_under45\n",
      "odds_btts_yes\n",
      "odds_btts_no\n",
      "odds_team_a_cs_yes\n",
      "odds_team_a_cs_no\n",
      "odds_team_b_cs_yes\n",
      "odds_team_b_cs_no\n",
      "odds_doublechance_1x\n",
      "odds_doublechance_12\n",
      "odds_doublechance_x2\n",
      "odds_1st_half_result_1\n",
      "odds_1st_half_result_x\n",
      "odds_1st_half_result_2\n",
      "odds_2nd_half_result_1\n",
      "odds_2nd_half_result_x\n",
      "odds_2nd_half_result_2\n",
      "odds_dnb_1\n",
      "odds_dnb_2\n",
      "odds_corners_over_75\n",
      "odds_corners_over_85\n",
      "odds_corners_over_95\n",
      "odds_corners_over_105\n",
      "odds_corners_over_115\n",
      "odds_corners_under_75\n",
      "odds_corners_under_85\n",
      "odds_corners_under_95\n",
      "odds_corners_under_105\n",
      "odds_corners_under_115\n",
      "odds_corners_1\n",
      "odds_corners_x\n",
      "odds_corners_2\n",
      "odds_team_to_score_first_1\n",
      "odds_team_to_score_first_x\n",
      "odds_team_to_score_first_2\n",
      "odds_win_to_nil_1\n",
      "odds_win_to_nil_2\n",
      "odds_1st_half_over05\n",
      "odds_1st_half_over15\n",
      "odds_1st_half_over25\n",
      "odds_1st_half_over35\n",
      "odds_1st_half_under05\n",
      "odds_1st_half_under15\n",
      "odds_1st_half_under25\n",
      "odds_1st_half_under35\n",
      "odds_2nd_half_over05\n",
      "odds_2nd_half_over15\n",
      "odds_2nd_half_over25\n",
      "odds_2nd_half_over35\n",
      "odds_2nd_half_under05\n",
      "odds_2nd_half_under15\n",
      "odds_2nd_half_under25\n",
      "odds_2nd_half_under35\n",
      "odds_btts_1st_half_yes\n",
      "odds_btts_1st_half_no\n",
      "odds_btts_2nd_half_yes\n",
      "odds_btts_2nd_half_no\n",
      "id_ft_1\n",
      "id_ft_x\n",
      "id_ft_2\n",
      "id_ft_over05\n",
      "id_ft_over15\n",
      "id_ft_over25\n",
      "id_ft_over35\n",
      "id_ft_over45\n",
      "id_btts_yes\n",
      "id_btts_no\n",
      "id_team_a_cs_yes\n",
      "id_team_b_cs_yes\n",
      "id_team_a_cs_no\n",
      "id_team_b_cs_no\n",
      "overallGoalCount\n",
      "ht_goals_team_a\n",
      "ht_goals_team_b\n",
      "goals_2hg_team_a\n",
      "goals_2hg_team_b\n",
      "GoalCount_2hg\n",
      "HTGoalCount\n",
      "date_unix\n",
      "winningTeam\n",
      "no_home_away\n",
      "btts_potential\n",
      "btts_fhg_potential\n",
      "btts_2hg_potential\n",
      "goalTimingDisabled\n",
      "attendance\n",
      "o45_potential\n",
      "o35_potential\n",
      "o25_potential\n",
      "o15_potential\n",
      "o05_potential\n",
      "o15HT_potential\n",
      "o05HT_potential\n",
      "corners_potential\n",
      "offsides_potential\n",
      "cards_potential\n",
      "avg_potential\n",
      "home_url\n",
      "home_image\n",
      "home_name\n",
      "away_url\n",
      "away_image\n",
      "away_name\n",
      "home_ppg\n",
      "away_ppg\n",
      "pre_match_home_ppg\n",
      "pre_match_away_ppg\n",
      "u45_potential\n",
      "u35_potential\n",
      "u25_potential\n",
      "u15_potential\n",
      "u05_potential\n",
      "corners_o85_potential\n",
      "corners_o95_potential\n",
      "corners_o105_potential\n",
      "match_url\n",
      "competition_id\n",
      "matches_completed_minimum\n",
      "over05\n",
      "over15\n",
      "over25\n",
      "over35\n",
      "over45\n",
      "over55\n",
      "btts\n"
     ]
    }
   ],
   "source": [
    "colz = jd.columns\n",
    "for i in jd.columns:\n",
    "    print(i)\n",
    "#jd.sort_values(by=['game_week']) "
   ]
  },
  {
   "cell_type": "markdown",
   "metadata": {},
   "source": [
    "# Define Training Set"
   ]
  },
  {
   "cell_type": "code",
   "execution_count": 6,
   "metadata": {
    "scrolled": false
   },
   "outputs": [],
   "source": [
    "x = jd.loc[:,[\"pre_match_home_ppg\",\"pre_match_away_ppg\"]]\n",
    "y_home=jd.loc[:,\"team_a_corners\"]\n",
    "y_away=jd.loc[:,\"team_b_corners\"]\n",
    "\n",
    "\n",
    "#print(jd.winningTeam.unique())\n",
    "#print(jd.homeID.unique())"
   ]
  },
  {
   "cell_type": "code",
   "execution_count": 7,
   "metadata": {
    "scrolled": true
   },
   "outputs": [],
   "source": [
    "x_home_train,x_home_test,y_home_train,y_home_test=train_test_split(x,y_home,test_size=0.2,random_state=0)\n",
    "x_away_train,x_away_test,y_away_train,y_away_test=train_test_split(x,y_away,test_size=0.2,random_state=0)\n",
    "k_fold = KFold(n_splits=5, shuffle=True, random_state=0)"
   ]
  },
  {
   "cell_type": "code",
   "execution_count": 8,
   "metadata": {
    "scrolled": true
   },
   "outputs": [],
   "source": [
    "\n",
    "\n",
    "#home goals\n",
    "def home_train_acc_score(model):\n",
    "    return round(np.mean(cross_val_score(model,x_home_train,y_home_train,cv=k_fold,scoring=\"accuracy\")),2)\n",
    "def home_test_acc_score(model):\n",
    "    return round(accuracy_score(y_home_test, model.predict(x_home_test)),2)\n",
    "def home_train_prec_score(model):\n",
    "    return round(precision_score(y_home_train,model.predict(x_home_train),average='macro'),2)\n",
    "def home_test_prec_score(model):\n",
    "    return round(precision_score(y_home_test,model.predict(x_home_test),average='macro'),2)\n",
    "def home_train_f1(model):\n",
    "    return round(f1_score(y_home_train,model.predict(x_home_train),average='macro'),2)\n",
    "def home_test_f1(model):\n",
    "    return round(f1_score(y_home_test,model.predict(x_home_test),average='macro'),2)\n",
    "def home_confusion_matrix_model_train(model_used):\n",
    "    cm=confusion_matrix(y_home_train,model_used.predict(x_home_train))\n",
    "    col=[\"Predicted Home Goals: 0\",\"Predicted Home Goals: 1\",\"Predicted Home Goals: 2\",\"Predicted Home Goals: 3\",\"Predicted Home Goals: 4\",\"Predicted Home Goals: 5\",\"Predicted Home Goals: 6\"]\n",
    "    cm=pd.DataFrame(cm)\n",
    "    cm.columns=[\"Predicted Home Goals: 0\",\"Predicted Home Goals: 1\",\"Predicted Home Goals: 2\",\"Predicted Home Goals: 3\",\"Predicted Home Goals: 4\",\"Predicted Home Goals: 5\",\"Predicted Home Goals: 6\"]\n",
    "    cm.index=[\"Actual Home Goals: 0\",\"Actual Home Goals: 1\",\"Actual Home Goals: 2\",\"Actual Home Goals: 3\",\"Actual Home Goals: 4\",\"Actual Home Goals: 5\",\"Actual Home Goals: 6\"]\n",
    "    #cm[col]=np(cm[col])\n",
    "    return cm.T\n",
    "def home_confusion_matrix_model_test(model_used):\n",
    "    cm=confusion_matrix(y_home_test,model_used.predict(x_home_test))\n",
    "    col=[\"Predicted Home Goals: 0\",\"Predicted Home Goals: 1\",\"Predicted Home Goals: 2\",\"Predicted Home Goals: 3\",\"Predicted Home Goals: 4\",\"Predicted Home Goals: 5\",\"Predicted Home Goals: 6\"]\n",
    "    cm=pd.DataFrame(cm)\n",
    "    cm.columns=[\"Predicted Home Goals: 0\",\"Predicted Home Goals: 1\",\"Predicted Home Goals: 2\",\"Predicted Home Goals: 3\",\"Predicted Home Goals: 4\",\"Predicted Home Goals: 5\",\"Predicted Home Goals: 6\"]\n",
    "    cm.index=[\"Actual Home Goals: 0\",\"Actual Home Goals: 1\",\"Actual Home Goals: 2\",\"Actual Home Goals: 3\",\"Actual Home Goals: 4\",\"Actual Home Goals: 5\",\"Actual Home Goals: 6\"]\n",
    "    #cm[col]=np(cm[col])\n",
    "    return cm.T\n",
    "def home_importance_of_features(model):\n",
    "    features = pd.DataFrame()\n",
    "    features['feature'] = x_home_train.columns\n",
    "    features['importance'] = model.feature_importances_\n",
    "    features.sort_values(by=['importance'], ascending=True, inplace=True)\n",
    "    features.set_index('feature', inplace=True)\n",
    "    return features.plot(kind='barh', figsize=(10,10))\n",
    "\n",
    "#away goals\n",
    "def away_train_acc_score(model):\n",
    "    return round(np.mean(cross_val_score(model,x_away_train,y_away_train,cv=k_fold,scoring=\"accuracy\")),2)\n",
    "def away_test_acc_score(model):\n",
    "    return round(accuracy_score(y_away_test, model.predict(x_away_test)),2)\n",
    "def away_train_prec_score(model):\n",
    "    return round(precision_score(y_away_train,model.predict(x_away_train),average='macro'),2)\n",
    "def away_test_prec_score(model):\n",
    "    return round(precision_score(y_away_test,model.predict(x_away_test),average='macro'),2)\n",
    "def away_train_f1(model):\n",
    "    return round(f1_score(y_away_train,model.predict(x_away_train),average='macro'),2)\n",
    "def away_test_f1(model):\n",
    "    return round(f1_score(y_away_test,model.predict(x_away_test),average='macro'),2)\n",
    "def away_confusion_matrix_model_train(model_used):\n",
    "    cm=confusion_matrix(y_away_train,model_used.predict(x_away_train))\n",
    "    col=[\"Predicted Away Goals: 0\",\"Predicted Away Goals: 1\",\"Predicted Away Goals: 2\",\"Predicted Away Goals: 3\",\"Predicted Away Goals: 4\",\"Predicted Away Goals: 5\",\"Predicted Away Goals: 6\"]\n",
    "    cm=pd.DataFrame(cm)\n",
    "    cm.columns=[\"Predicted Away Goals: 0\",\"Predicted Away Goals: 1\",\"Predicted Away Goals: 2\",\"Predicted Away Goals: 3\",\"Predicted Away Goals: 4\",\"Predicted Away Goals: 5\",\"Predicted Away Goals: 6\"]\n",
    "    cm.index=[\"Actual Away Goals: 0\",\"Actual Away Goals: 1\",\"Actual Away Goals: 2\",\"Actual Away Goals: 3\",\"Actual Away Goals: 4\",\"Actual Away Goals: 5\",\"Actual Away Goals: 6\"]\n",
    "    #cm[col]=np(cm[col])\n",
    "    return cm.T\n",
    "def away_confusion_matrix_model_test(model_used):\n",
    "    cm=confusion_matrix(y_away_test,model_used.predict(x_away_test))\n",
    "    col=[\"Predicted Away Goals: 0\",\"Predicted Away Goals: 1\",\"Predicted Away Goals: 2\",\"Predicted Away Goals: 3\",\"Predicted Away Goals: 4\",\"Predicted Away Goals: 5\",\"Predicted Away Goals: 6\"]\n",
    "    cm=pd.DataFrame(cm)\n",
    "    cm.columns=[\"Predicted Away Goals: 0\",\"Predicted Away Goals: 1\",\"Predicted Away Goals: 2\",\"Predicted Away Goals: 3\",\"Predicted Away Goals: 4\",\"Predicted Away Goals: 5\",\"Predicted Away Goals: 6\"]\n",
    "    cm.index=[\"Actual Away Goals: 0\",\"Actual Away Goals: 1\",\"Actual Away Goals: 2\",\"Actual Away Goals: 3\",\"Actual Away Goals: 4\",\"Actual Away Goals: 5\",\"Actual Away Goals: 6\"]\n",
    "    #cm[col]=np(cm[col])\n",
    "    return cm.T\n",
    "def away_importance_of_features(model):\n",
    "    features = pd.DataFrame()\n",
    "    features['feature'] = x_away_train.columns\n",
    "    features['importance'] = model.feature_importances_\n",
    "    features.sort_values(by=['importance'], ascending=True, inplace=True)\n",
    "    features.set_index('feature', inplace=True)\n",
    "    return features.plot(kind='barh', figsize=(10,10))\n",
    "\n"
   ]
  },
  {
   "cell_type": "code",
   "execution_count": 9,
   "metadata": {
    "scrolled": true
   },
   "outputs": [
    {
     "name": "stdout",
     "output_type": "stream",
     "text": [
      "{'C': 1}\n",
      "In-sample accuracy: 0.14\n",
      "Test accuracy: 0.12\n",
      "In-sample Precision Score: 0.03\n",
      "Test Precision Score: 0.02\n",
      "In-sample F1 Score: 0.03\n",
      "Test F1 Score: 0.03\n"
     ]
    }
   ],
   "source": [
    "param_grid = dict(C=(0.0001,0.001,0.005,0.01,0.1,0.5,1))\n",
    "homelog_reg1 = GridSearchCV(LogisticRegression(penalty=\"l1\"),param_grid=param_grid,scoring=\"f1_macro\")\n",
    "#homelog_reg1=LogisticRegression(penalty=\"l1\")\n",
    "homelog_reg1.fit(x_home_train,y_home_train)\n",
    "#predicted=log_reg1.predict(x_test)\n",
    "print(homelog_reg1.best_params_)\n",
    "print(\"In-sample accuracy: \" + str(home_train_acc_score(homelog_reg1)))\n",
    "print(\"Test accuracy: \" + str(home_test_acc_score(homelog_reg1)))\n",
    "print (\"In-sample Precision Score: \" + str(home_train_prec_score(homelog_reg1)))\n",
    "print (\"Test Precision Score: \" + str(home_test_prec_score(homelog_reg1)))\n",
    "print (\"In-sample F1 Score: \" + str(home_train_f1(homelog_reg1)))\n",
    "print (\"Test F1 Score: \" + str(home_test_f1(homelog_reg1)))\n",
    "#home_confusion_matrix_model_train(homelog_reg1)"
   ]
  },
  {
   "cell_type": "code",
   "execution_count": 39,
   "metadata": {
    "scrolled": true
   },
   "outputs": [],
   "source": [
    "predicted_home = homelog_reg1.predict(x_home_train)\n",
    "actual_home = y_home_train"
   ]
  },
  {
   "cell_type": "code",
   "execution_count": 42,
   "metadata": {
    "scrolled": true
   },
   "outputs": [
    {
     "name": "stderr",
     "output_type": "stream",
     "text": [
      "No handles with labels found to put in legend.\n",
      "No handles with labels found to put in legend.\n"
     ]
    },
    {
     "data": {
      "image/png": "[encoded data removed]",
      "text/plain": [
       "<Figure size 1080x720 with 1 Axes>"
      ]
     },
     "metadata": {
      "needs_background": "light"
     },
     "output_type": "display_data"
    }
   ],
   "source": [
    "make_scatter(actual_home, predicted_home,'actual\" home corners','predicted home corners')\n",
    "#make_hist(actual_home, predicted_home,'actual home corners','predicted home corners')"
   ]
  },
  {
   "cell_type": "code",
   "execution_count": null,
   "metadata": {
    "scrolled": true
   },
   "outputs": [],
   "source": [
    "param_grid = dict(C=(0.0001,0.001,0.005,0.01,0.1,0.5,1))\n",
    "homelog_reg2 = GridSearchCV(LogisticRegression(penalty=\"l2\"),param_grid=param_grid,scoring=\"f1_macro\")\n",
    "#homelog_reg1=LogisticRegression(penalty=\"l1\")\n",
    "homelog_reg2.fit(x_home_train,y_home_train)\n",
    "#predicted=log_reg1.predict(x_test)\n",
    "print(homelog_reg2.best_params_)\n",
    "print(\"In-sample accuracy: \" + str(home_train_acc_score(homelog_reg2)))\n",
    "print(\"Test accuracy: \" + str(home_test_acc_score(homelog_reg2)))\n",
    "print (\"In-sample Precision Score: \" + str(home_train_prec_score(homelog_reg2)))\n",
    "print (\"Test Precision Score: \" + str(home_test_prec_score(homelog_reg2)))\n",
    "print (\"In-sample F1 Score: \" + str(home_train_f1(homelog_reg2)))\n",
    "print (\"Test F1 Score: \" + str(home_test_f1(homelog_reg2)))"
   ]
  },
  {
   "cell_type": "code",
   "execution_count": 12,
   "metadata": {
    "scrolled": true
   },
   "outputs": [
    {
     "name": "stdout",
     "output_type": "stream",
     "text": [
      "In-sample accuracy: 0.15\n",
      "Test accuracy: 0.15\n",
      "In-sample Precision Score: 0.01\n",
      "Test Precision Score: 0.01\n",
      "In-sample F1 Score: 0.01\n",
      "Test F1 Score: 0.02\n"
     ]
    }
   ],
   "source": [
    "homesvc_rbf = SVC(kernel='rbf', gamma=0.001, C=1,random_state=0)\n",
    "homesvc_rbf.fit(x_home_train, y_home_train)\n",
    "#print(homesvc_rbf.best_params_)\n",
    "print(\"In-sample accuracy: \" + str(home_train_acc_score(homesvc_rbf)))\n",
    "print(\"Test accuracy: \" + str(home_test_acc_score(homesvc_rbf)))\n",
    "print (\"In-sample Precision Score: \" + str(home_train_prec_score(homesvc_rbf)))\n",
    "print (\"Test Precision Score: \" + str(home_test_prec_score(homesvc_rbf)))\n",
    "print (\"In-sample F1 Score: \" + str(home_train_f1(homesvc_rbf)))\n",
    "print (\"Test F1 Score: \" + str(home_test_f1(homesvc_rbf)))"
   ]
  },
  {
   "cell_type": "code",
   "execution_count": 13,
   "metadata": {
    "scrolled": true
   },
   "outputs": [
    {
     "name": "stdout",
     "output_type": "stream",
     "text": [
      "In-sample accuracy: 0.09\n",
      "Test accuracy: 0.09\n",
      "In-sample Precision Score: 0.38\n",
      "Test Precision Score: 0.04\n",
      "In-sample F1 Score: 0.29\n",
      "Test F1 Score: 0.04\n"
     ]
    }
   ],
   "source": [
    "homexgclass = xgb.XGBClassifier(max_depth=5, n_estimators=15, learning_rate=0.2)\n",
    "homexgclass.fit(x_home_train,y_home_train)\n",
    "predicted=homexgclass.predict(x_home_test)\n",
    "#print(homexgclass.best_params_)\n",
    "print(\"In-sample accuracy: \" + str(home_train_acc_score(homexgclass)))\n",
    "print(\"Test accuracy: \" + str(home_test_acc_score(homexgclass)))\n",
    "print (\"In-sample Precision Score: \" + str(home_train_prec_score(homexgclass)))\n",
    "print (\"Test Precision Score: \" + str(home_test_prec_score(homexgclass)))\n",
    "print (\"In-sample F1 Score: \" + str(home_train_f1(homexgclass)))\n",
    "print (\"Test F1 Score: \" + str(home_test_f1(homexgclass)))"
   ]
  },
  {
   "cell_type": "code",
   "execution_count": 10,
   "metadata": {
    "scrolled": false
   },
   "outputs": [],
   "source": [
    "jd[jd.awayID == jd.winningTeam].shape\n",
    "#home shape: (549, 173)\n",
    "#away shape: (350, 173)\n",
    "\n",
    "winning_corners_a = jd[jd.homeID == jd.winningTeam]['team_a_corners']\n",
    "losing_corners_a = jd[jd.homeID != jd.winningTeam]['team_a_corners']\n",
    "\n",
    "winning_corners_b = jd[jd.awayID == jd.winningTeam]['team_b_corners']\n",
    "losing_corners_b = jd[jd.homeID != jd.winningTeam]['team_b_corners']\n",
    "\n",
    "winning_corners = pd.concat([winning_corners_a,winning_corners_b])\n",
    "losing_corners = pd.concat([losing_corners_a,losing_corners_b])"
   ]
  },
  {
   "cell_type": "code",
   "execution_count": 11,
   "metadata": {
    "scrolled": false
   },
   "outputs": [],
   "source": [
    "team_a_efficiency = jd['team_a_shotsOnTarget']/jd['team_a_possession']\n",
    "team_b_efficiency = jd['team_b_shotsOnTarget']/jd['team_b_possession']\n"
   ]
  },
  {
   "cell_type": "code",
   "execution_count": 93,
   "metadata": {
    "scrolled": true
   },
   "outputs": [
    {
     "data": {
      "text/plain": [
       "0       150\n",
       "1       154\n",
       "2       142\n",
       "3        -1\n",
       "4        -1\n",
       "5        -1\n",
       "6        93\n",
       "7       149\n",
       "8       151\n",
       "9       152\n",
       "10      149\n",
       "11       93\n",
       "12      150\n",
       "13       92\n",
       "14      152\n",
       "15      144\n",
       "16      145\n",
       "17       -1\n",
       "18      147\n",
       "19      153\n",
       "20       -1\n",
       "21      152\n",
       "22       -1\n",
       "23      144\n",
       "24      108\n",
       "25       -1\n",
       "26       59\n",
       "27      149\n",
       "28       -1\n",
       "29       93\n",
       "       ... \n",
       "1130     93\n",
       "1131     59\n",
       "1132    143\n",
       "1133    157\n",
       "1134     -1\n",
       "1135    151\n",
       "1136    161\n",
       "1137     -1\n",
       "1138     -1\n",
       "1139    153\n",
       "1140    151\n",
       "1141     93\n",
       "1142     -1\n",
       "1143    145\n",
       "1144     -1\n",
       "1145     -1\n",
       "1146    209\n",
       "1147     92\n",
       "1148     59\n",
       "1149    149\n",
       "1150     59\n",
       "1151    148\n",
       "1152     -1\n",
       "1153     -1\n",
       "1154    144\n",
       "1155     -1\n",
       "1156    159\n",
       "1157    251\n",
       "1158    151\n",
       "1159     -1\n",
       "Name: winningTeam, Length: 1160, dtype: int64"
      ]
     },
     "execution_count": 93,
     "metadata": {},
     "output_type": "execute_result"
    }
   ],
   "source": [
    "jd['winningTeam']"
   ]
  },
  {
   "cell_type": "code",
   "execution_count": 12,
   "metadata": {
    "scrolled": true
   },
   "outputs": [],
   "source": [
    "def make_hist(data1,data2,label1,label2):\n",
    "    plt.rc('font', family='serif')\n",
    "    f,ax = plt.subplots(figsize=(15,10))\n",
    "    nbins = 5\n",
    "#    sns.distplot(data1,bins = nbins, label = label1)\n",
    "    sns.distplot(data2,bins = nbins, label = label2)\n",
    "    sns.distplot(data1,bins = nbins, label = label1)\n",
    "    plt.legend()\n",
    "    plt.grid()\n",
    "    #ax.tick_params('x',labelsize=20)\n",
    "    #plt.title('corners',fontsize=30)\n",
    "    plt.legend(loc='best',fontsize=10)\n",
    "    plt.show()\n",
    "\n",
    "def make_scatter(x,y):\n",
    "    plt.rc('font', family='serif')\n",
    "    f,ax = plt.subplots(figsize=(15,10))\n",
    "    color \n",
    "    ax.scatter(x, y, alpha=0.3, edgecolors='none')\n",
    "    plt.legend()\n",
    "    plt.grid()\n",
    "    #ax.tick_params('x',labelsize=20)\n",
    "    #plt.title('corners',fontsize=30)\n",
    "    plt.legend(loc='best',fontsize=10)\n",
    "    plt.show()\n",
    "    \n",
    "#make_hist(jd['team_a_corners'],jd['team_b_corners'],'team_a_corners','team_b_corners')\n",
    "#make_hist(winning_corners,losing_corners,'winning_corners','losing_corners')\n",
    "#make_hist(winning_corners_a,losing_corners_b,'winningAndHome_corners','losingAndAway_corners')\n",
    "#make_hist(losing_corners_a,winning_corners_b,'losingAndHome_corners','winningAndAway_corners')\n",
    "#make_hist(team_a_efficiency.replace([np.inf, -np.inf], np.nan),team_b_efficiency.replace([np.inf, -np.inf], np.nan),'home team shots on tar/ps','away team shots on tar/ps')"
   ]
  },
  {
   "cell_type": "code",
   "execution_count": 39,
   "metadata": {
    "scrolled": false
   },
   "outputs": [
    {
     "data": {
      "image/png": "[encoded data removed]",
      "text/plain": [
       "<Figure size 1080x720 with 1 Axes>"
      ]
     },
     "metadata": {
      "needs_background": "light"
     },
     "output_type": "display_data"
    },
    {
     "data": {
      "image/png": "[encoded data removed]",
      "text/plain": [
       "<Figure size 1080x720 with 1 Axes>"
      ]
     },
     "metadata": {
      "needs_background": "light"
     },
     "output_type": "display_data"
    }
   ],
   "source": [
    "def make_scatter(x,y,xlabel,ylabel):\n",
    "    plt.rc('font', family='serif')\n",
    "    f,ax = plt.subplots(figsize=(15,10))\n",
    "    ax.scatter(x, y, alpha=0.3, edgecolors='none')\n",
    "    plt.legend()\n",
    "    plt.grid()\n",
    "    #ax.tick_params('x',labelsize=20)\n",
    "    #plt.title('corners',fontsize=30)\n",
    "    plt.xlabel(xlabel)\n",
    "    plt.ylabel(ylabel)\n",
    "\n",
    "    plt.legend(loc='best',fontsize=10)\n",
    "    plt.show()\n",
    "    \n",
    "#make_scatter(jd.team_a_shots, jd.overallGoalCount,'total corners','total goals')\n",
    "#make_scatter(jd.team_b_shots, jd.team_b_corners,'away team shots','away team corners')\n",
    "\n",
    "make_scatter(jd.team_a_shots, jd.team_a_corners,'home team shots','home team corners')\n",
    "make_scatter(jd.team_a_shotsOnTarget, jd.homeGoalCount,'home team shots on targ','home goals')\n",
    "\n",
    "#make_scatter(jd.team_b_shots, jd.team_a_corners,'away team shots','home team corners')\n",
    "\n",
    "#make_scatter(jd.team_a_shots, jd.team_b_shots,'home team shots','away team shots')\n",
    "#make_scatter(jd.team_a_corners, jd.team_b_corners,'home team corners','away team corners')\n",
    "#make_scatter(jd.team_a_possession, jd.team_a_corners,'home team pos','home team corners')\n",
    "#make_scatter(jd.team_b_possession, jd.team_b_corners,'away team pos','away team corners')\n",
    "#make_scatter(jd.team_a_possession, jd.team_a_shots,'home team pos','home team shots')\n",
    "#make_scatter(jd.team_b_possession, jd.team_b_shots,'away team pos','away team shots')\n"
   ]
  },
  {
   "cell_type": "markdown",
   "metadata": {},
   "source": [
    "## make home away poisson plots"
   ]
  },
  {
   "cell_type": "code",
   "execution_count": 14,
   "metadata": {},
   "outputs": [],
   "source": [
    "def home_away_plot(epl_1617,home_team,away_team):\n",
    "    fig,(ax1,ax2) = plt.subplots(2, 1)\n",
    "\n",
    "\n",
    "    chel_home = epl_1617[epl_1617['home_name']==home_team][['team_a_corners']].apply(pd.value_counts,normalize=True)\n",
    "    chel_home_pois = [poisson.pmf(i,np.sum(np.multiply(chel_home.values.T,chel_home.index.T),axis=1)[0]) for i in range(15)]\n",
    "    sun_home = epl_1617[epl_1617['home_name']==away_team][['team_a_corners']].apply(pd.value_counts,normalize=True)\n",
    "    sun_home_pois = [poisson.pmf(i,np.sum(np.multiply(sun_home.values.T,sun_home.index.T),axis=1)[0]) for i in range(15)]\n",
    "\n",
    "    chel_away = epl_1617[epl_1617['away_name']==home_team][['team_b_corners']].apply(pd.value_counts,normalize=True)\n",
    "    chel_away_pois = [poisson.pmf(i,np.sum(np.multiply(chel_away.values.T,chel_away.index.T),axis=1)[0]) for i in range(15)]\n",
    "    sun_away = epl_1617[epl_1617['away_name']==away_team][['team_b_corners']].apply(pd.value_counts,normalize=True)\n",
    "    sun_away_pois = [poisson.pmf(i,np.sum(np.multiply(sun_away.values.T,sun_away.index.T),axis=1)[0]) for i in range(15)]\n",
    "\n",
    "    print(chel_home.index)\n",
    "    print(chel_home.index-0.4)\n",
    "    print(chel_home.values)\n",
    "    ax1.bar(chel_home.index-0.4,np.vectorize(chel_home.values),width=0.4,label=home_team)\n",
    "    ax1.bar(chel_home.index-0.4,chel_home.values,width=0.4,color=\"#034694\",linewidth=.5,label=home_team)\n",
    "\n",
    "    ax1.bar(sun_home.index,sun_home.values,width=0.4,color=\"#EB172B\",label=away_team)\n",
    "    pois1, = ax1.plot([i for i in range(15)], chel_home_pois,linestyle='-', marker='o',label=home_team, color = \"#0a7bff\")\n",
    "    pois1, = ax1.plot([i for i in range(15)], sun_home_pois,linestyle='-', marker='o',label=away_team, color = \"#ff7c89\")\n",
    "    leg=ax1.legend(loc='upper right', fontsize=12, ncol=2)\n",
    "    leg.set_title(\"Poisson                 Actual                \", prop = {'size':'14', 'weight':'bold'})\n",
    "    ax1.set_xlim([-0.5,7.5])\n",
    "    ax1.set_ylim([-0.01,0.65])\n",
    "    ax1.set_xticklabels([])\n",
    "    # mimicing the facet plots in ggplot2 with a bit of a hack\n",
    "    ax1.text(7.65, 0.585, '                Home                ', rotation=-90,\n",
    "        bbox={'facecolor':'#ffbcf6', 'alpha':0.5, 'pad':5})\n",
    "    ax2.text(7.65, 0.585, '                Away                ', rotation=-90,\n",
    "        bbox={'facecolor':'#ffbcf6', 'alpha':0.5, 'pad':5})\n",
    "\n",
    "    ax2.bar(chel_away.index-0.4,chel_away.values,width=0.4,color=\"#034694\",label=home_team)\n",
    "    ax2.bar(sun_away.index,sun_away.values,width=0.4,color=\"#EB172B\",label=away_team)\n",
    "    pois1, = ax2.plot([i for i in range(15)], chel_away_pois, linestyle='-', marker='o',label=home_team, color = \"#0a7bff\")\n",
    "    pois1, = ax2.plot([i for i in range(15)], sun_away_pois, linestyle='-', marker='o',label=away_team, color = \"#ff7c89\")\n",
    "    ax2.set_xlim([-0.5,7.5])\n",
    "    ax2.set_ylim([-0.01,0.65])\n",
    "    ax1.set_title(\"Number of Corners per Match\",size=14,fontweight='bold')\n",
    "    ax2.set_xlabel(\"Corners per Match\",size=13)\n",
    "    ax2.text(-1.15, 0.9, 'Proportion of Matches', rotation=90, size=13)\n",
    "    plt.tight_layout()\n",
    "    plt.show()"
   ]
  },
  {
   "cell_type": "markdown",
   "metadata": {},
   "source": [
    "## Poison model"
   ]
  },
  {
   "cell_type": "code",
   "execution_count": 23,
   "metadata": {
    "scrolled": true
   },
   "outputs": [],
   "source": [
    "def total_match_output(jd,home_team,away_team):\n",
    "    match_output(jd,home_team,away_team,0)\n",
    "    try:\n",
    "        match_output(jd,home_team,away_team,1)\n",
    "    except:\n",
    "        print('error')\n",
    "    try:\n",
    "        match_output(jd,home_team,away_team,2)\n",
    "    except:\n",
    "        print('error')\n",
    "    \n",
    "\n",
    "def match_output(jd,home_team,away_team,assume_home_win=0):\n",
    "    home_win = jd[jd.homeID == jd.winningTeam] # away loses\n",
    "    home_lose = jd[jd.homeID != jd.winningTeam] #away wins\n",
    "\n",
    "\n",
    "    ###########\n",
    "    if assume_home_win == 0:\n",
    "        print('assumption: none')\n",
    "        df_to_use = jd\n",
    "    elif assume_home_win ==1:\n",
    "        print('assumption: home team win')\n",
    "        df_to_use = home_win\n",
    "    elif assume_home_win ==2:\n",
    "        print('assumption: home team loss')\n",
    "        df_to_use = home_lose\n",
    "    \n",
    "    \n",
    "    \n",
    "    \n",
    "    corner_model_data = pd.concat([df_to_use[['home_name','away_name','team_a_corners']].assign(home=1).rename(\n",
    "            columns={'home_name':'team', 'away_name':'opponent','team_a_corners':'corners'}),\n",
    "           df_to_use[['away_name','home_name','team_b_corners']].assign(home=0).rename(\n",
    "            columns={'away_name':'team', 'home_name':'opponent','team_b_corners':'corners'})])\n",
    "\n",
    "\n",
    "\n",
    "    poisson_model = smf.glm(formula=\"corners ~ home + team + opponent\", data=corner_model_data, \n",
    "                        family=sm.families.Poisson()).fit()\n",
    "    poisson_model.summary()\n",
    "\n",
    "    home_corners = poisson_model.predict(pd.DataFrame(data={'team': home_team, 'opponent': away_team,'home':1},index=[1])).iloc[0]\n",
    "    away_corners = poisson_model.predict(pd.DataFrame(data={'team': away_team, 'opponent': home_team,'home':0},index=[1])).iloc[0]\n",
    "    \n",
    "    \n",
    "    \n",
    "\n",
    "    #set plotting features:\n",
    "    #fig, ax = plt.subplots(figsize=(10,6))\n",
    "    #ax.grid()\n",
    "    # construct Poisson  for each mean goals value\n",
    "    #poisson_fit_df = df_to_use[['team_a_corners','team_b_corners']]\n",
    "    #poisson_pred = np.column_stack([[poisson.pmf(i, poisson_fit_df.mean()[j]) for i in range(15)] for j in range(2)])\n",
    "\n",
    "    # plot histogram of actual goals\n",
    "    #plt.hist(df_to_use[['team_a_corners', 'team_b_corners']].values, range(16), alpha=0.7, label=['Home', 'Away'],normed=True, color=[\"#FFA07A\", \"#20B2AA\"])\n",
    "\n",
    "    # add lines for the Poisson distributions\n",
    "    #pois1, = plt.plot([i-0.5 for i in range(1,16)], poisson_pred[:,0],linestyle='-', marker='o',label=\"Home\", color = '#CD5C5C')\n",
    "    #pois2, = plt.plot([i-0.5 for i in range(1,16)], poisson_pred[:,1],linestyle='-', marker='o',label=\"Away\", color = '#006400')\n",
    "\n",
    "    #leg=plt.legend(loc='upper right', fontsize=13, ncol=2)\n",
    "    #leg.set_title(\"Poisson           Actual        \", prop = {'size':'14', 'weight':'bold'})\n",
    "\n",
    "    #plt.xticks([i-0.5 for i in range(1,16)],[i for i in range(16)])\n",
    "    #plt.xlabel(\"Corners per Match\",size=13)\n",
    "    #plt.ylabel(\"Proportion of Matches\",size=13)\n",
    "    #plt.title(\"Number of corners per Match\",size=14,fontweight='bold')\n",
    "    #plt.ylim([-0.004, 0.4])\n",
    "    #plt.tight_layout()\n",
    "    #plt.show()\n",
    "    #home_away_plot(df_to_use,home_team,away_team)\n",
    "\n",
    "    df_size = df_to_use[df_to_use['home_name'] == home_team].shape[0]\n",
    "    try:\n",
    "        relative_uncert = 100*math.sqrt(df_size)/df_size\n",
    "    except:\n",
    "        relative_uncert = 100\n",
    "    print('approx relative uncertainty: {:.1f}%, df_size: {}'.format(relative_uncert,df_size))\n",
    "    print('{} corners: {}'.format(home_team,home_corners))\n",
    "    print('{} corners: {}'.format(away_team,away_corners))\n",
    "    print('home - away spread: {}\\n\\n---------'.format(home_corners-away_corners))"
   ]
  },
  {
   "cell_type": "markdown",
   "metadata": {},
   "source": [
    "## original poisson model"
   ]
  },
  {
   "cell_type": "code",
   "execution_count": 27,
   "metadata": {
    "scrolled": false
   },
   "outputs": [
    {
     "name": "stdout",
     "output_type": "stream",
     "text": [
      "assumption: none\n",
      "approx relative uncertainty: 100.0%, df_size: 1\n",
      "Sheffield United corners: 3.996789014935488\n",
      "Liverpool corners: 3.682471188623908\n",
      "home - away spread: 0.31431782631158\n",
      "\n",
      "---------\n",
      "assumption: home team win\n",
      "approx relative uncertainty: 100.0%, df_size: 1\n",
      "Sheffield United corners: 4.233656639608021\n",
      "Liverpool corners: 5.3077115472581715\n",
      "home - away spread: -1.0740549076501509\n",
      "\n",
      "---------\n",
      "assumption: home team loss\n",
      "approx relative uncertainty: 100.0%, df_size: 0\n",
      "Sheffield United corners: 3.3116697287758385\n",
      "Liverpool corners: 2.7230108027833606\n",
      "home - away spread: 0.5886589259924779\n",
      "\n",
      "---------\n",
      "assumption: none\n",
      "approx relative uncertainty: 13.1%, df_size: 58\n",
      "Tottenham Hotspur corners: 7.108802266516964\n",
      "Southampton corners: 4.060876671112934\n",
      "home - away spread: 3.0479255954040303\n",
      "\n",
      "---------\n",
      "assumption: home team win\n",
      "approx relative uncertainty: 15.2%, df_size: 43\n",
      "Tottenham Hotspur corners: 6.18935981579556\n",
      "Southampton corners: 4.552074982017083\n",
      "home - away spread: 1.6372848337784767\n",
      "\n",
      "---------\n",
      "assumption: home team loss\n",
      "approx relative uncertainty: 25.8%, df_size: 15\n",
      "Tottenham Hotspur corners: 8.480193933641019\n",
      "Southampton corners: 3.4572316045242015\n",
      "home - away spread: 5.022962329116817\n",
      "\n",
      "---------\n",
      "assumption: none\n",
      "approx relative uncertainty: 13.1%, df_size: 58\n",
      "Leicester City corners: 6.893050024052084\n",
      "Newcastle United corners: 4.451038020167909\n",
      "home - away spread: 2.442012003884175\n",
      "\n",
      "---------\n",
      "assumption: home team win\n",
      "approx relative uncertainty: 20.0%, df_size: 25\n",
      "Leicester City corners: 6.4666710996233805\n",
      "Newcastle United corners: 4.909496245837503\n",
      "home - away spread: 1.5571748537858774\n",
      "\n",
      "---------\n",
      "assumption: home team loss\n",
      "approx relative uncertainty: 17.4%, df_size: 33\n",
      "Leicester City corners: 7.244532567095634\n",
      "Newcastle United corners: 4.013994327278909\n",
      "home - away spread: 3.230538239816725\n",
      "\n",
      "---------\n"
     ]
    }
   ],
   "source": [
    "#total_match_output(jd,'AFC Bournemouth','Everton')\n",
    "#total_match_output(jd,'Liverpool','Newcastle United')\n",
    "#total_match_output(jd,'Aston Villa','West Ham United')\n",
    "#total_match_output(jd,'Brighton & Hove Albion','Burnley')\n",
    "#total_match_output(jd,'Manchester United','Leicester City')\n",
    "#total_match_output(jd,'Norwich City','Manchester City')\n",
    "total_match_output(jd,'Sheffield United','Liverpool')\n",
    "total_match_output(jd,'Tottenham Hotspur','Southampton')\n",
    "total_match_output(jd,'Leicester City','Newcastle United')\n",
    "#total_match_output(jd,'Wolverhampton Wanderers','Chelsea')\n"
   ]
  },
  {
   "cell_type": "code",
   "execution_count": 18,
   "metadata": {
    "scrolled": true
   },
   "outputs": [
    {
     "name": "stdout",
     "output_type": "stream",
     "text": [
      "norwich corners:  1    8.011373\n",
      "dtype: float64\n",
      "Manchester corners:  1    2.728938\n",
      "dtype: float64\n"
     ]
    }
   ],
   "source": [
    "import statsmodels.api as sm\n",
    "import statsmodels.formula.api as smf\n",
    "\n",
    "corner_model_data = pd.concat([jd[['home_name','away_name','team_a_corners']].assign(home=1).rename(\n",
    "            columns={'home_name':'team', 'away_name':'opponent','team_a_corners':'corners'}),\n",
    "           jd[['away_name','home_name','team_b_corners']].assign(home=0).rename(\n",
    "            columns={'away_name':'team', 'home_name':'opponent','team_b_corners':'corners'})])\n",
    "\n",
    "poisson_model = smf.glm(formula=\"corners ~ home + team + opponent\", data=corner_model_data, \n",
    "                        family=sm.families.Poisson()).fit()\n",
    "poisson_model.summary()\n",
    "\n",
    "#print('norwich corners: ',poisson_model.predict(pd.DataFrame(data={'team': 'Norwich City', 'opponent': 'Manchester City','home':1},index=[1])))\n",
    "#print('Manchester corners: ',poisson_model.predict(pd.DataFrame(data={'team': 'Manchester City', 'opponent': 'Norwich City','home':0},index=[1])))\n",
    "print('norwich corners: ',poisson_model.predict(pd.DataFrame(data={'team': 'Liverpool', 'opponent': 'Newcastle United','home':1},index=[1])))\n",
    "print('Manchester corners: ',poisson_model.predict(pd.DataFrame(data={'team': 'Newcastle United', 'opponent': 'Liverpool','home':0},index=[1])))"
   ]
  },
  {
   "cell_type": "markdown",
   "metadata": {},
   "source": [
    "## home team wins model"
   ]
  },
  {
   "cell_type": "code",
   "execution_count": 19,
   "metadata": {
    "scrolled": true
   },
   "outputs": [
    {
     "name": "stdout",
     "output_type": "stream",
     "text": [
      "8.562574322628329\n",
      "1    2.566112\n",
      "dtype: float64\n"
     ]
    }
   ],
   "source": [
    "home_win = jd[jd.homeID == jd.winningTeam] # away loses\n",
    "home_lose = jd[jd.homeID != jd.winningTeam] #away wins\n",
    "\n",
    "#away_win = jd[jd.awayID == jd.winningTeam]\n",
    "#away_lose= jd[jd.awayID != jd.winningTeam]\n",
    "\n",
    "###########\n",
    "\n",
    "corner_model_data = pd.concat([home_win[['home_name','away_name','team_a_corners']].assign(home=1).rename(\n",
    "            columns={'home_name':'team', 'away_name':'opponent','team_a_corners':'corners'}),\n",
    "                               \n",
    "           home_win[['away_name','home_name','team_b_corners']].assign(home=0).rename(\n",
    "            columns={'away_name':'team', 'home_name':'opponent','team_b_corners':'corners'})])\n",
    "\n",
    "\n",
    "\n",
    "poisson_model = smf.glm(formula=\"corners ~ home + team + opponent\", data=corner_model_data, \n",
    "                        family=sm.families.Poisson()).fit()\n",
    "poisson_model.summary()\n",
    "\n",
    "print(poisson_model.predict(pd.DataFrame(data={'team': 'Liverpool', 'opponent': 'Newcastle United','home':1},index=[1])).iloc[0])\n",
    "print(poisson_model.predict(pd.DataFrame(data={'team': 'Newcastle United', 'opponent': 'Liverpool','home':0},index=[1])))"
   ]
  },
  {
   "cell_type": "markdown",
   "metadata": {},
   "source": [
    "## home team loses model"
   ]
  },
  {
   "cell_type": "code",
   "execution_count": null,
   "metadata": {
    "scrolled": true
   },
   "outputs": [],
   "source": [
    "#home_win = jd[jd.homeID == jd.winningTeam] # away loses\n",
    "home_lose = jd[jd.homeID != jd.winningTeam] #away wins\n",
    "\n",
    "corner_model_data = pd.concat([home_lose[['home_name','away_name','team_a_corners']].assign(home=1).rename(\n",
    "            columns={'home_name':'team', 'away_name':'opponent','team_a_corners':'corners'}),\n",
    "                               \n",
    "           home_lose[['away_name','home_name','team_b_corners']].assign(home=0).rename(\n",
    "            columns={'away_name':'team', 'home_name':'opponent','team_b_corners':'corners'})])\n",
    "\n",
    "\n",
    "\n",
    "poisson_model = smf.glm(formula=\"corners ~ home + team + opponent\", data=corner_model_data, \n",
    "                        family=sm.families.Poisson()).fit()\n",
    "poisson_model.summary()\n",
    "\n",
    "print('norwich corners: ',poisson_model.predict(pd.DataFrame(data={'team': 'Norwich City', 'opponent': 'Manchester City','home':1},index=[1])))\n",
    "print('Manchester corners: ',poisson_model.predict(pd.DataFrame(data={'team': 'Manchester City', 'opponent': 'Norwich City','home':0},index=[1])))"
   ]
  },
  {
   "cell_type": "code",
   "execution_count": null,
   "metadata": {},
   "outputs": [],
   "source": [
    "import statsmodels.api as sm\n",
    "import statsmodels.formula.api as smf\n",
    "\n",
    "jd['total_corners'] = jd['team_a_corners'] + jd['team_b_corners'] \n",
    "\n",
    "corner_model_data = pd.concat([jd[['home_name','away_name','team_a_corners']].assign(home=1).rename(\n",
    "            columns={'home_name':'team', 'away_name':'opponent','team_a_corners':'corners'}),\n",
    "           jd[['away_name','home_name','team_b_corners']].assign(home=0).rename(\n",
    "            columns={'away_name':'team', 'home_name':'opponent','team_b_corners':'corners'})])\n",
    "\n",
    "poisson_model = smf.glm(formula=\"corners ~ home + team + opponent\", data=corner_model_data, \n",
    "                        family=sm.families.Poisson()).fit()\n",
    "poisson_model.summary()\n",
    "\n",
    "#print('norwich corners: ',poisson_model.predict(pd.DataFrame(data={'team': 'Norwich City', 'opponent': 'Manchester City','home':1},index=[1])))\n",
    "#print('Manchester corners: ',poisson_model.predict(pd.DataFrame(data={'team': 'Manchester City', 'opponent': 'Norwich City','home':0},index=[1])))\n",
    "print('norwich corners: ',poisson_model.predict(pd.DataFrame(data={'team': 'Liverpool', 'opponent': 'Newcastle United','home':1},index=[1])))\n",
    "print('Manchester corners: ',poisson_model.predict(pd.DataFrame(data={'team': 'Newcastle United', 'opponent': 'Liverpool','home':0},index=[1])))"
   ]
  },
  {
   "cell_type": "code",
   "execution_count": 57,
   "metadata": {},
   "outputs": [
    {
     "data": {
      "text/plain": [
       "<matplotlib.axes._subplots.AxesSubplot at 0x1c2bfab860>"
      ]
     },
     "execution_count": 57,
     "metadata": {},
     "output_type": "execute_result"
    },
    {
     "data": {
      "image/png": "[encoded data removed]",
      "text/plain": [
       "<Figure size 432x288 with 1 Axes>"
      ]
     },
     "metadata": {
      "needs_background": "light"
     },
     "output_type": "display_data"
    }
   ],
   "source": [
    "\n",
    "\n",
    "jd['importance'] = jd['pre_match_home_ppg'] + jd['pre_match_away_ppg']\n",
    "\n",
    "sns.distplot(jd['importance'])"
   ]
  },
  {
   "cell_type": "code",
   "execution_count": 59,
   "metadata": {},
   "outputs": [
    {
     "data": {
      "text/plain": [
       "<matplotlib.axes._subplots.AxesSubplot at 0x1c2c287588>"
      ]
     },
     "execution_count": 59,
     "metadata": {},
     "output_type": "execute_result"
    },
    {
     "data": {
      "image/png": "[encoded data removed]",
      "text/plain": [
       "<Figure size 432x288 with 1 Axes>"
      ]
     },
     "metadata": {
      "needs_background": "light"
     },
     "output_type": "display_data"
    }
   ],
   "source": [
    "jd['total_corners'] = jd['team_a_corners'] + jd['team_b_corners'] \n",
    "home_win = jd[jd.homeID == jd.winningTeam] # away loses\n",
    "home_lose = jd[jd.homeID != jd.winningTeam] #away wins\n",
    "jd['total_corners'] = jd['team_a_corners'] + jd['team_b_corners'] \n",
    "#sns.distplot(jd['total_corners'])\n",
    "\n",
    "split1 = jd[(jd['importance'] >= 2)]\n",
    "split2 = jd[~(jd['importance'] >= 2)]\n",
    "\n",
    "sns.distplot(split1['total_corners'])\n",
    "sns.distplot(split2['total_corners'])"
   ]
  },
  {
   "cell_type": "markdown",
   "metadata": {},
   "source": [
    "### Length of words in greeting"
   ]
  },
  {
   "cell_type": "code",
   "execution_count": 3,
   "metadata": {
    "scrolled": false
   },
   "outputs": [],
   "source": [
    "greeting = \"Hello Jupyter!\""
   ]
  },
  {
   "cell_type": "code",
   "execution_count": 4,
   "metadata": {
    "scrolled": false
   },
   "outputs": [
    {
     "data": {
      "image/png": "[encoded data removed]",
      "text/plain": [
       "<Figure size 432x288 with 1 Axes>"
      ]
     },
     "metadata": {
      "needs_background": "light"
     },
     "output_type": "display_data"
    }
   ],
   "source": [
    "words = greeting.split(' ')\n",
    "word_length = [len(w) for w in words]\n",
    "plt.bar(words,word_length)\n",
    "plt.show()"
   ]
  },
  {
   "cell_type": "markdown",
   "metadata": {},
   "source": [
    "### Magics"
   ]
  },
  {
   "cell_type": "code",
   "execution_count": 11,
   "metadata": {
    "scrolled": false
   },
   "outputs": [
    {
     "name": "stdout",
     "output_type": "stream",
     "text": [
      "CPU times: user 5 µs, sys: 0 ns, total: 5 µs\n",
      "Wall time: 9.06 µs\n",
      "CPU times: user 22.7 ms, sys: 2.35 ms, total: 25.1 ms\n",
      "Wall time: 28.5 ms\n"
     ]
    },
    {
     "data": {
      "image/png": "[encoded data removed]",
      "text/plain": [
       "<Figure size 432x288 with 1 Axes>"
      ]
     },
     "metadata": {
      "needs_background": "light"
     },
     "output_type": "display_data"
    },
    {
     "name": "stdout",
     "output_type": "stream",
     "text": [
      "CPU times: user 77.7 ms, sys: 3.13 ms, total: 80.8 ms\n",
      "Wall time: 95.2 ms\n"
     ]
    }
   ],
   "source": [
    "%time word_length = [len(w) for w in words]\n",
    "%time plt.bar(words,word_length)\n",
    "%time plt.show()"
   ]
  },
  {
   "cell_type": "code",
   "execution_count": 12,
   "metadata": {
    "scrolled": false
   },
   "outputs": [
    {
     "data": {
      "application/json": {
       "cell": {
        "!": "OSMagics",
        "HTML": "Other",
        "SVG": "Other",
        "bash": "Other",
        "capture": "ExecutionMagics",
        "debug": "ExecutionMagics",
        "file": "Other",
        "html": "DisplayMagics",
        "javascript": "DisplayMagics",
        "js": "DisplayMagics",
        "latex": "DisplayMagics",
        "markdown": "DisplayMagics",
        "perl": "Other",
        "prun": "ExecutionMagics",
        "pypy": "Other",
        "python": "Other",
        "python2": "Other",
        "python3": "Other",
        "ruby": "Other",
        "script": "ScriptMagics",
        "sh": "Other",
        "svg": "DisplayMagics",
        "sx": "OSMagics",
        "system": "OSMagics",
        "time": "ExecutionMagics",
        "timeit": "ExecutionMagics",
        "writefile": "OSMagics"
       },
       "line": {
        "alias": "OSMagics",
        "alias_magic": "BasicMagics",
        "autoawait": "AsyncMagics",
        "autocall": "AutoMagics",
        "automagic": "AutoMagics",
        "autosave": "KernelMagics",
        "bookmark": "OSMagics",
        "cat": "Other",
        "cd": "OSMagics",
        "clear": "KernelMagics",
        "colors": "BasicMagics",
        "conda": "PackagingMagics",
        "config": "ConfigMagics",
        "connect_info": "KernelMagics",
        "cp": "Other",
        "debug": "ExecutionMagics",
        "dhist": "OSMagics",
        "dirs": "OSMagics",
        "doctest_mode": "BasicMagics",
        "ed": "Other",
        "edit": "KernelMagics",
        "env": "OSMagics",
        "gui": "BasicMagics",
        "hist": "Other",
        "history": "HistoryMagics",
        "killbgscripts": "ScriptMagics",
        "ldir": "Other",
        "less": "KernelMagics",
        "lf": "Other",
        "lk": "Other",
        "ll": "Other",
        "load": "CodeMagics",
        "load_ext": "ExtensionMagics",
        "loadpy": "CodeMagics",
        "logoff": "LoggingMagics",
        "logon": "LoggingMagics",
        "logstart": "LoggingMagics",
        "logstate": "LoggingMagics",
        "logstop": "LoggingMagics",
        "ls": "Other",
        "lsmagic": "BasicMagics",
        "lx": "Other",
        "macro": "ExecutionMagics",
        "magic": "BasicMagics",
        "man": "KernelMagics",
        "matplotlib": "PylabMagics",
        "mkdir": "Other",
        "more": "KernelMagics",
        "mv": "Other",
        "notebook": "BasicMagics",
        "page": "BasicMagics",
        "pastebin": "CodeMagics",
        "pdb": "ExecutionMagics",
        "pdef": "NamespaceMagics",
        "pdoc": "NamespaceMagics",
        "pfile": "NamespaceMagics",
        "pinfo": "NamespaceMagics",
        "pinfo2": "NamespaceMagics",
        "pip": "PackagingMagics",
        "popd": "OSMagics",
        "pprint": "BasicMagics",
        "precision": "BasicMagics",
        "prun": "ExecutionMagics",
        "psearch": "NamespaceMagics",
        "psource": "NamespaceMagics",
        "pushd": "OSMagics",
        "pwd": "OSMagics",
        "pycat": "OSMagics",
        "pylab": "PylabMagics",
        "qtconsole": "KernelMagics",
        "quickref": "BasicMagics",
        "recall": "HistoryMagics",
        "rehashx": "OSMagics",
        "reload_ext": "ExtensionMagics",
        "rep": "Other",
        "rerun": "HistoryMagics",
        "reset": "NamespaceMagics",
        "reset_selective": "NamespaceMagics",
        "rm": "Other",
        "rmdir": "Other",
        "run": "ExecutionMagics",
        "save": "CodeMagics",
        "sc": "OSMagics",
        "set_env": "OSMagics",
        "store": "StoreMagics",
        "sx": "OSMagics",
        "system": "OSMagics",
        "tb": "ExecutionMagics",
        "time": "ExecutionMagics",
        "timeit": "ExecutionMagics",
        "unalias": "OSMagics",
        "unload_ext": "ExtensionMagics",
        "who": "NamespaceMagics",
        "who_ls": "NamespaceMagics",
        "whos": "NamespaceMagics",
        "xdel": "NamespaceMagics",
        "xmode": "BasicMagics"
       }
      },
      "text/plain": [
       "Available line magics:\n",
       "%alias  %alias_magic  %autoawait  %autocall  %automagic  %autosave  %bookmark  %cat  %cd  %clear  %colors  %conda  %config  %connect_info  %cp  %debug  %dhist  %dirs  %doctest_mode  %ed  %edit  %env  %gui  %hist  %history  %killbgscripts  %ldir  %less  %lf  %lk  %ll  %load  %load_ext  %loadpy  %logoff  %logon  %logstart  %logstate  %logstop  %ls  %lsmagic  %lx  %macro  %magic  %man  %matplotlib  %mkdir  %more  %mv  %notebook  %page  %pastebin  %pdb  %pdef  %pdoc  %pfile  %pinfo  %pinfo2  %pip  %popd  %pprint  %precision  %prun  %psearch  %psource  %pushd  %pwd  %pycat  %pylab  %qtconsole  %quickref  %recall  %rehashx  %reload_ext  %rep  %rerun  %reset  %reset_selective  %rm  %rmdir  %run  %save  %sc  %set_env  %store  %sx  %system  %tb  %time  %timeit  %unalias  %unload_ext  %who  %who_ls  %whos  %xdel  %xmode\n",
       "\n",
       "Available cell magics:\n",
       "%%!  %%HTML  %%SVG  %%bash  %%capture  %%debug  %%file  %%html  %%javascript  %%js  %%latex  %%markdown  %%perl  %%prun  %%pypy  %%python  %%python2  %%python3  %%ruby  %%script  %%sh  %%svg  %%sx  %%system  %%time  %%timeit  %%writefile\n",
       "\n",
       "Automagic is ON, % prefix IS NOT needed for line magics."
      ]
     },
     "execution_count": 12,
     "metadata": {},
     "output_type": "execute_result"
    }
   ],
   "source": [
    "%lsmagic"
   ]
  },
  {
   "cell_type": "code",
   "execution_count": null,
   "metadata": {
    "scrolled": false
   },
   "outputs": [],
   "source": []
  }
 ],
 "metadata": {
  "kernelspec": {
   "display_name": "Python 3",
   "language": "python",
   "name": "python3"
  },
  "language_info": {
   "codemirror_mode": {
    "name": "ipython",
    "version": 3
   },
   "file_extension": ".py",
   "mimetype": "text/x-python",
   "name": "python",
   "nbconvert_exporter": "python",
   "pygments_lexer": "ipython3",
   "version": "3.7.3"
  }
 },
 "nbformat": 4,
 "nbformat_minor": 2
}
